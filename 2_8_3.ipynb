{
  "nbformat": 4,
  "nbformat_minor": 0,
  "metadata": {
    "kernelspec": {
      "display_name": "Python 3",
      "language": "python",
      "name": "python3"
    },
    "language_info": {
      "codemirror_mode": {
        "name": "ipython",
        "version": 3
      },
      "file_extension": ".py",
      "mimetype": "text/x-python",
      "name": "python",
      "nbconvert_exporter": "python",
      "pygments_lexer": "ipython3",
      "version": "3.7.4"
    },
    "colab": {
      "name": "2.8.3.ipynb",
      "provenance": [],
      "include_colab_link": true
    }
  },
  "cells": [
    {
      "cell_type": "markdown",
      "metadata": {
        "id": "view-in-github",
        "colab_type": "text"
      },
      "source": [
        "<a href=\"https://colab.research.google.com/github/jferx/modelado-y-simulacion/blob/flujo-en-la-linea/2_8_3.ipynb\" target=\"_parent\"><img src=\"https://colab.research.google.com/assets/colab-badge.svg\" alt=\"Open In Colab\"/></a>"
      ]
    },
    {
      "cell_type": "code",
      "metadata": {
        "id": "GlAaWY_Dp06q",
        "colab_type": "code",
        "colab": {
          "base_uri": "https://localhost:8080/",
          "height": 282
        },
        "outputId": "e2e27fb5-c37e-4dc4-ebda-3d33bda81a92"
      },
      "source": [
        "import numpy as np\n",
        "import matplotlib.pyplot as plt\n",
        "\n",
        "def sistema_1(t, x, a):\n",
        "    x_dot = a*x\n",
        "    return x_dot\n",
        "\n",
        "def euler( h, tini, tfin, x0, params ):\n",
        "    ti = tini  \n",
        "    xi = x0\n",
        "  \n",
        "    x = list()\n",
        "    t = list()\n",
        "  \n",
        "    while ( ti < tfin ):\n",
        "    \n",
        "      x.append (xi)\n",
        "      t.append (ti)\n",
        "  \n",
        "      xi = xi + h*sistema_1(ti,xi,params)\n",
        "      ti = ti + h\n",
        "    return t, x   \n",
        "\n",
        "a = -1\n",
        "tini = 0\n",
        "tfin = 10\n",
        "x0 = 1\n",
        "x_1=list()\n",
        "\n",
        "for n in [0,1,2,3,4]:\n",
        "    h = 10**-n\n",
        "    t1,x1 = euler( h, tini, tfin, x0, a )\n",
        "    x_1.append(x1[int(1/h)])\n",
        "\n",
        "E=abs(x_1-np.exp(-1))\n",
        "plt.plot(x_1,E)"
      ],
      "execution_count": null,
      "outputs": [
        {
          "output_type": "execute_result",
          "data": {
            "text/plain": [
              "[<matplotlib.lines.Line2D at 0x7ff920f23198>]"
            ]
          },
          "metadata": {
            "tags": []
          },
          "execution_count": 1
        },
        {
          "output_type": "display_data",
          "data": {
            "image/png": "[encoded data removed]",
            "text/plain": [
              "<Figure size 432x288 with 1 Axes>"
            ]
          },
          "metadata": {
            "tags": [],
            "needs_background": "light"
          }
        }
      ]
    },
    {
      "cell_type": "code",
      "metadata": {
        "id": "EkiAYwLnp07H",
        "colab_type": "code",
        "colab": {}
      },
      "source": [
        ""
      ],
      "execution_count": null,
      "outputs": []
    },
    {
      "cell_type": "code",
      "metadata": {
        "id": "rWf-mgsep07b",
        "colab_type": "code",
        "colab": {}
      },
      "source": [
        ""
      ],
      "execution_count": null,
      "outputs": []
    }
  ]
}